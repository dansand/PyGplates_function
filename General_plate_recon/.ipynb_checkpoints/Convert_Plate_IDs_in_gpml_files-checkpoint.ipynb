{
 "cells": [
  {
   "cell_type": "markdown",
   "metadata": {},
   "source": [
    "### This is an Ipython notebook for converting PlateIDs in topology files "
   ]
  },
  {
   "cell_type": "code",
   "execution_count": 1,
   "metadata": {
    "collapsed": true
   },
   "outputs": [],
   "source": [
    "import numpy as np\n",
    "import pandas as pd"
   ]
  },
  {
   "cell_type": "code",
   "execution_count": 46,
   "metadata": {
    "collapsed": true
   },
   "outputs": [],
   "source": [
    "#this function loops searches a text file and replaces values based on a dictionary\n",
    "def replace_all(text, dic):\n",
    "    for i, j in dic.iteritems():\n",
    "        #i1 = str(i) #these lines are needed to convert to string if just dealing with numbers\n",
    "        #j1 = str(j) #these lines are needed to convert to string if just dealing with numbers\n",
    "        text = text.replace(i,j)\n",
    "    return text"
   ]
  },
  {
   "cell_type": "code",
   "execution_count": 47,
   "metadata": {
    "collapsed": false
   },
   "outputs": [],
   "source": [
    "#load files\n",
    "#basedir1 = '/Users/Andrew/Documents/EarthByte_Models/Global_1000-0_Model_2017' #set base directory path\n",
    "basedir1 = '/Users/Andrew/Documents/PhD/Models/Domeier_models/Merge/For_rift/' #set base directory path\n",
    "basedir2 = '/Users/Andrew/Documents/PhD/Scripts'\n",
    "\n",
    "#load plateID file\n",
    "df = pd.read_csv('%s/Python_Scripts/PyGplates_functions/General_plate_recon/Plate_IDs_for_Dom16-to-Mer17_topology_conversion.csv' % basedir2,)\n",
    "\n",
    "#load gpml file\n",
    "with open('%sDomeier-EarlyP-merge-Rotation_ASM_riftID.rot' % basedir1, 'r') as file :\n",
    "    filedata = file.read()"
   ]
  },
  {
   "cell_type": "code",
   "execution_count": 48,
   "metadata": {
    "collapsed": true
   },
   "outputs": [],
   "source": [
    "#create a dictionary of old and new plate IDs for conversion\n",
    "id_dict = dict(zip(df.Dom16ROT,df.Mer17ROT))"
   ]
  },
  {
   "cell_type": "code",
   "execution_count": 49,
   "metadata": {
    "collapsed": false
   },
   "outputs": [],
   "source": [
    "new_text = replace_all(filedata, id_dict)"
   ]
  },
  {
   "cell_type": "code",
   "execution_count": 50,
   "metadata": {
    "collapsed": false
   },
   "outputs": [],
   "source": [
    "with open('%s/Scripts_Output/Python/Plate_ID_conversions/Domeier-EarlyP-merge-Rotation_ASM_riftID.rot' % basedir2, 'w') as file:\n",
    "    file.write(new_text)"
   ]
  },
  {
   "cell_type": "code",
   "execution_count": null,
   "metadata": {
    "collapsed": true
   },
   "outputs": [],
   "source": []
  }
 ],
 "metadata": {
  "kernelspec": {
   "display_name": "Python 2",
   "language": "python",
   "name": "python2"
  },
  "language_info": {
   "codemirror_mode": {
    "name": "ipython",
    "version": 2
   },
   "file_extension": ".py",
   "mimetype": "text/x-python",
   "name": "python",
   "nbconvert_exporter": "python",
   "pygments_lexer": "ipython2",
   "version": "2.7.13"
  }
 },
 "nbformat": 4,
 "nbformat_minor": 2
}
