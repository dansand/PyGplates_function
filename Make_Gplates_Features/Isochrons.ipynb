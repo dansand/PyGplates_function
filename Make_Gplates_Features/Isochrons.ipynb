{
 "cells": [
  {
   "cell_type": "markdown",
   "metadata": {},
   "source": [
    "# this script generates synthetic isochrons around a mid ocean ridge file"
   ]
  },
  {
   "cell_type": "code",
   "execution_count": 441,
   "metadata": {
    "collapsed": false
   },
   "outputs": [],
   "source": [
    "import sys\n",
    "sys.path.insert(1, '/Users/Andrew/Documents/PhD/Scripts/Python/pygplates_rev9/pygplates_rev9_python27_MacOS64')\n",
    "import pygplates"
   ]
  },
  {
   "cell_type": "code",
   "execution_count": 442,
   "metadata": {
    "collapsed": true
   },
   "outputs": [],
   "source": [
    "rotation_model = pygplates.RotationModel('/Users/Andrew/Documents/PhD/Models/Rodinia_Models/Lis_model_amends/Merdith_Models/SWEAT_20151020/Rod-Gondw_Palaeozoic_20151208_AUSMEX.rot')\n",
    "ridge_features = pygplates.FeatureCollection('/Users/Andrew/Documents/PhD/Models/Rodinia_Models/Lis_model_amends/Merdith_Models/SWEAT_20151020/Divergence_20160104.gpml')\n",
    "isochron_feature_collection = pygplates.FeatureCollection()"
   ]
  },
  {
   "cell_type": "code",
   "execution_count": 443,
   "metadata": {
    "collapsed": false
   },
   "outputs": [],
   "source": [
    "isochron_creation_times = range(700,731,5)\n",
    "isochron_creation_times = isochron_creation_times[::-1]"
   ]
  },
  {
   "cell_type": "code",
   "execution_count": 444,
   "metadata": {
    "collapsed": false
   },
   "outputs": [],
   "source": [
    "# Iterate over the ridge features.\n",
    "for ridge_feature in ridge_features:\n",
    "\n",
    "    # Get the ridge left and right plate ids, and time of appearance.\n",
    "    left_plate_id = ridge_feature.get_left_plate()\n",
    "    right_plate_id = ridge_feature.get_right_plate()\n",
    "    time_of_appearance, time_of_disappearance = ridge_feature.get_valid_time()\n",
    "    \n",
    "    # Iterate over our list of creation times for the left/right isochrons.\n",
    "    for isochron_creation_time in isochron_creation_times:\n",
    "        # If creation time is later than ridge birth time then we can create an isochron.\n",
    "        if isochron_creation_time == time_of_appearance:\n",
    "\n",
    "            # Reconstruct the mid-ocean ridge to isochron creation time.\n",
    "            # The ridge geometry will be in the same position as the left/right isochrons at that time.\n",
    "            reconstructed_ridges = []\n",
    "            pygplates.reconstruct(ridge_feature, rotation_model, reconstructed_ridges, isochron_creation_time)\n",
    "\n",
    "            # Get the isochron geometry from the ridge reconstruction.\n",
    "            # This is the geometry at 'isochron_creation_time' (not present day).\n",
    "            isochron_geometry_at_creation_time = [reconstructed_ridge.get_reconstructed_geometry()\n",
    "                    for reconstructed_ridge in reconstructed_ridges]\n",
    "\n",
    "            # Create the left and right isochrons.\n",
    "            # Since they are conjugates they have swapped left and right plate IDs.\n",
    "            # And reverse reconstruct the mid-ocean ridge geometries to present day.\n",
    "            left_isochron_feature = pygplates.Feature.create_reconstructable_feature(\n",
    "                    pygplates.FeatureType.create_gpml('Isochron'),\n",
    "                    isochron_geometry_at_creation_time,\n",
    "                    name = ridge_feature.get_name(None),\n",
    "                    description = ridge_feature.get_description(None),\n",
    "                    valid_time = (isochron_creation_time, 0),\n",
    "                    reconstruction_plate_id = left_plate_id,\n",
    "                    conjugate_plate_id = right_plate_id,\n",
    "                    reverse_reconstruct = (rotation_model, isochron_creation_time))\n",
    "            right_isochron_feature = pygplates.Feature.create_reconstructable_feature(\n",
    "                    pygplates.FeatureType.create_gpml('Isochron'),\n",
    "                    isochron_geometry_at_creation_time,\n",
    "                    name = ridge_feature.get_name(None),\n",
    "                    description = ridge_feature.get_description(None),\n",
    "                    valid_time = (isochron_creation_time, 0),\n",
    "                    reconstruction_plate_id = right_plate_id,\n",
    "                    conjugate_plate_id = left_plate_id,\n",
    "                    reverse_reconstruct = (rotation_model, isochron_creation_time))\n",
    "\n",
    "            # Add isochrons to feature collection.\n",
    "            isochron_feature_collection.add(left_isochron_feature)\n",
    "            isochron_feature_collection.add(right_isochron_feature)\n",
    "\n",
    "# Write the isochrons to a new file.\n",
    "isochron_feature_collection.write('isochrons.gpml')\n"
   ]
  }
 ],
 "metadata": {
  "kernelspec": {
   "display_name": "Python 2",
   "language": "python",
   "name": "python2"
  },
  "language_info": {
   "codemirror_mode": {
    "name": "ipython",
    "version": 2
   },
   "file_extension": ".py",
   "mimetype": "text/x-python",
   "name": "python",
   "nbconvert_exporter": "python",
   "pygments_lexer": "ipython2",
   "version": "2.7.13"
  }
 },
 "nbformat": 4,
 "nbformat_minor": 0
}
