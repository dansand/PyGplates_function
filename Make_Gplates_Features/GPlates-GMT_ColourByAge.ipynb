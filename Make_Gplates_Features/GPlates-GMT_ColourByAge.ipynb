{
 "cells": [
  {
   "cell_type": "code",
   "execution_count": 1,
   "metadata": {
    "collapsed": true
   },
   "outputs": [],
   "source": [
    "import os"
   ]
  },
  {
   "cell_type": "code",
   "execution_count": 2,
   "metadata": {
    "collapsed": false
   },
   "outputs": [],
   "source": [
    "#create a generator for file names of XY files in a directory\n",
    "def FileNameGenerator():\n",
    "    \"needs import OS\"\n",
    "    \"generates filenames from xy files in a directory\"\n",
    "    \"to pass to a function that then does *stuff* to all those files\"\n",
    "    for root, dirs, files in os.walk('/Users/Andrew/Documents/PhD/Scripts/GMT/Plot_boundaries/'):\n",
    "        for name in files:\n",
    "            if name.endswith('.xy'):\n",
    "                filename =  os.path.join(root, name)\n",
    "                yield filename"
   ]
  },
  {
   "cell_type": "code",
   "execution_count": 3,
   "metadata": {
    "collapsed": false
   },
   "outputs": [],
   "source": [
    "#\n",
    "#!/bin/python\n",
    "# untitled.py **to change**\n",
    "#Project: split up a file to extract age and geometry co-ords for plotting evolution of plate boundaries in GMT\n",
    "#Date: 05 May 2015\n",
    "#Authors: Andrew and Nathan and Kara\n",
    "\n",
    "##This code removes clutter from the xy export files from GPlates and leave age and geometry co-ordinates\n",
    "##in order for plotting in GMT\n",
    "\n",
    "#set parameters we need for later\n",
    "time = 'reconstructionTime' #keyword to find the reconstruction time of the geometry\n",
    "geom = '>' #keyword to help identifiy where the geometry co-ords are kept in the file\n",
    "FileName = FileNameGenerator() #calls a generator that yields the filenames of interest in a folder\n",
    "\n",
    "for f in FileName:\n",
    "    xyfile = open(f, 'r+')                         #Set the output filename \n",
    "    outFilename = f[:-2]+'gmt'                     #Open up the output file for 'w'riting to.\n",
    "    outputFile = open(outFilename, 'w')            #a is append #w is write\n",
    "    while True: \n",
    "        line = xyfile.readline()                   #Read a line of the file at a time\n",
    "        if len(line) == 0:                         #Check if the line is zero length (i.e. the end of the file)\n",
    "            break                                  #If it is, break out of the while loop\n",
    "        else:                                      #only print the line if it contains the given string\n",
    "            lineList = line.split()                #separates all the lines of the file into their own entity\n",
    "            if time in line:                       #find time, as time is different for all, but recontructionTime is constant, we use RT to pick up the actual numerical value\n",
    "                age = line                         #now to find the actual age from the line in question\n",
    "                ageList = age.split()              #separates the line in question into its own entities\n",
    "                break                              #break out of loop once done, as this is all we need woo!\n",
    "    outputFile.write('>boundary -Z'+ageList[1])    #write the header of our new file using ageList from above\n",
    "    while True: \n",
    "        line2=xyfile.readline()                    #Read a line at a time (again)\n",
    "        if geom in line2:                          #our 'geom'etry parameter\n",
    "            outputFile.write('>')                  #if geom (i.e. '>' is in line, simply put >\n",
    "        if geom not in line2:                      #now, as our co-ords do not have a '>' in their line, we can determien their location\n",
    "            outputFile.write('\\n'+line2)           #write these lines as well to the new output file\n",
    "            if len(line2) == 0:                    #Check if the line is zero length (i.e. the end of the file)\n",
    "                break                              #If it is, break out of the while loop\n",
    "       \n",
    "    outputFile.flush()                             #Flush and close the output file, to prevent unessacary memory build up and corruption\n",
    "    outputFile.close()                             #(important for complicated programs)"
   ]
  },
  {
   "cell_type": "code",
   "execution_count": null,
   "metadata": {
    "collapsed": true
   },
   "outputs": [],
   "source": []
  },
  {
   "cell_type": "code",
   "execution_count": null,
   "metadata": {
    "collapsed": true
   },
   "outputs": [],
   "source": []
  }
 ],
 "metadata": {
  "kernelspec": {
   "display_name": "Python 2",
   "language": "python",
   "name": "python2"
  },
  "language_info": {
   "codemirror_mode": {
    "name": "ipython",
    "version": 2
   },
   "file_extension": ".py",
   "mimetype": "text/x-python",
   "name": "python",
   "nbconvert_exporter": "python",
   "pygments_lexer": "ipython2",
   "version": "2.7.9"
  }
 },
 "nbformat": 4,
 "nbformat_minor": 0
}
