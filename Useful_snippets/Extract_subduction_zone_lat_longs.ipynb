{
 "cells": [
  {
   "cell_type": "code",
   "execution_count": 177,
   "metadata": {},
   "outputs": [],
   "source": [
    "import pygplates\n",
    "import numpy as np"
   ]
  },
  {
   "cell_type": "code",
   "execution_count": 178,
   "metadata": {},
   "outputs": [],
   "source": [
    "#set path to rotation file, shapefiles, topologies etc.\n",
    "loaddir = '/Users/Andrew/Documents/EarthByte_Models/Matthews++_410-0Ma'\n",
    "savedir = '/Users/Andrew/Documents/PhD/Scripts/Scripts_Output/Test'\n",
    "input_rotation_model = '%s/Global_EB_250-0Ma_GK07_Matthews_etal.rot' % loaddir\n",
    "topology_features = ['%s/Global_EarthByte_Mesozoic-Cenozoic_plate_boundaries_Matthews_etal.gpml' % loaddir,\n",
    "                     '%s/TopologyBuildingBlocks_AREPS.gpml' % loaddir]\n",
    "coastlines_file = '%s/StaticGeometries/Coastlines/Global_coastlines_2015_v1_low_res.gpml' % loaddir\n",
    "\n",
    "#load into pygplates\n",
    "rotation_model = pygplates.RotationModel(input_rotation_model)\n",
    "coastline_features = pygplates.FeatureCollection(coastlines_file)"
   ]
  },
  {
   "cell_type": "code",
   "execution_count": 181,
   "metadata": {},
   "outputs": [],
   "source": [
    "start_time = 0\n",
    "end_time = 10\n",
    "timestep = 1\n",
    "times = np.arange(start_time, end_time+timestep, timestep)"
   ]
  },
  {
   "cell_type": "code",
   "execution_count": 182,
   "metadata": {
    "scrolled": true
   },
   "outputs": [],
   "source": [
    "subduction_zone_geometries = dict()\n",
    "\n",
    "for time in times:\n",
    "    with open('%s/%s_geometry.csv' % (savedir, time), mode='w') as tmp_csv:\n",
    "        csv_writer = csv.writer(tmp_csv, delimiter=',')\n",
    "        #print tmp_csv\n",
    "        subduction_zone_geometries[time] = []\n",
    "\n",
    "        # Resolve our topological plate polygons (and deforming networks) to the current 'time'.\n",
    "        # We generate both the resolved topology boundaries and the boundary sections between them.\n",
    "        \n",
    "        #these arrays are to store the topologies and boundary sections\n",
    "        resolved_topologies = []\n",
    "        shared_boundary_sections = []\n",
    "\n",
    "        pygplates.resolve_topologies(topology_features, rotation_model, resolved_topologies, \\\n",
    "                                     time, shared_boundary_sections)\n",
    "\n",
    "        # Iterate over the shared boundary sections (since one plate boundary can be shared by two plates)\n",
    "        \n",
    "        for  shared_boundary_section in shared_boundary_sections:\n",
    "            \n",
    "            #we only want subudction zones (NB you can change the feature type to transform/MoR etc.)\n",
    "            if shared_boundary_section.get_feature().get_feature_type() == pygplates.FeatureType.gpml_subduction_zone:\n",
    "                \n",
    "                #iterate over sub segments in each feature\n",
    "                for shared_sub_segment in shared_boundary_section.get_shared_sub_segments():\n",
    "                    shared_sub_segment_geometry = shared_sub_segment.get_resolved_geometry()\n",
    "                    \n",
    "                    #convert to lat lon array, you can conver to a list or to a feature as well, depending\n",
    "                    #what output you want one may be better than others\n",
    "                    tmp = shared_sub_segment_geometry.to_lat_lon_array()\n",
    "                \n",
    "                #append everything to a big dictionary\n",
    "                subduction_zone_geometries[time].append(tmp)\n",
    "\n"
   ]
  },
  {
   "cell_type": "code",
   "execution_count": null,
   "metadata": {},
   "outputs": [],
   "source": []
  }
 ],
 "metadata": {
  "kernelspec": {
   "display_name": "Python 2",
   "language": "python",
   "name": "python2"
  },
  "language_info": {
   "codemirror_mode": {
    "name": "ipython",
    "version": 2
   },
   "file_extension": ".py",
   "mimetype": "text/x-python",
   "name": "python",
   "nbconvert_exporter": "python",
   "pygments_lexer": "ipython2",
   "version": "2.7.15"
  }
 },
 "nbformat": 4,
 "nbformat_minor": 2
}
