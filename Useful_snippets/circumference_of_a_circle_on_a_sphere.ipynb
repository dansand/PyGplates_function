{
 "cells": [
  {
   "cell_type": "code",
   "execution_count": null,
   "metadata": {
    "collapsed": true
   },
   "outputs": [],
   "source": [
    "def small_circle_perimeter(R, A):\n",
    "    #adapted from https://math.stackexchange.com/questions/1832110/area-of-a-circle-on-sphere\n",
    "    #and\n",
    "    #https://physics.stackexchange.com/questions/301852/why-is-the-circumference-of-a-circle-drawn-on-a-sphere-less-than-the-circumferen\n",
    "\n",
    "    #R = radius of the sphere (usually earth, 6371 km)\n",
    "    #A = Area of the small circle\n",
    "    #r = radius of arc from the pole to the small circle (i.e. along a great circle from the pole)\n",
    "    #c = circumference on a sphere\n",
    "    \n",
    "    theta = 1.0 - (A / (2.0 * np.pi * R**2.0))\n",
    "    r = R * np.arccos(theta)\n",
    "    c = 2.0 * np.pi * R * np.sin(r/R)\n",
    "    \n",
    "    return r, c"
   ]
  }
 ],
 "metadata": {
  "kernelspec": {
   "display_name": "Python 2",
   "language": "python",
   "name": "python2"
  },
  "language_info": {
   "codemirror_mode": {
    "name": "ipython",
    "version": 2
   },
   "file_extension": ".py",
   "mimetype": "text/x-python",
   "name": "python",
   "nbconvert_exporter": "python",
   "pygments_lexer": "ipython2",
   "version": "2.7.13"
  }
 },
 "nbformat": 4,
 "nbformat_minor": 2
}
