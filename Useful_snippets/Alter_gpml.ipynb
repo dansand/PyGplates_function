{
 "cells": [
  {
   "cell_type": "code",
   "execution_count": 1,
   "metadata": {},
   "outputs": [],
   "source": [
    "import pygplates\n",
    "import numpy as np"
   ]
  },
  {
   "cell_type": "code",
   "execution_count": 5,
   "metadata": {},
   "outputs": [],
   "source": [
    "#set path to rotation file, shapefiles, topologies etc.\n",
    "loaddir = '/Users/Andrew/Documents/EarthByte_Models/Matthews++_410-0Ma'\n",
    "savedir = '/Users/Andrew/Documents/PhD/Scripts/Scripts_Output/Test'\n",
    "topology_features = '%s/Global_EarthByte_Mesozoic-Cenozoic_plate_boundaries_Matthews_etal.gpml' % loaddir\n",
    "\n",
    "#load into pygplates\n",
    "input_feature_collection = pygplates.FeatureCollection(topology_features)"
   ]
  },
  {
   "cell_type": "code",
   "execution_count": 26,
   "metadata": {
    "scrolled": true
   },
   "outputs": [],
   "source": [
    "# Start with an empty list of MOR features\n",
    "MOR_Features = []\n",
    "\n",
    "# Iterate over all plate boundary features and add those with a feature ID of MoR to 'MOR_Features'.\n",
    "for count, feature in enumerate(input_feature_collection):\n",
    "    if feature.get_feature_type() == pygplates.FeatureType.gpml_mid_ocean_ridge: #or gpml.subduction_zone, gpml.transform etc.\n",
    "        MOR_Features.append(feature)\n",
    "        \n",
    "output_feature_collection = pygplates.FeatureCollection(MOR_Features)\n",
    "output_feature_collection.write('%s/MOR_test.gpml' % savedir)"
   ]
  },
  {
   "cell_type": "code",
   "execution_count": null,
   "metadata": {},
   "outputs": [],
   "source": []
  }
 ],
 "metadata": {
  "kernelspec": {
   "display_name": "Python 2",
   "language": "python",
   "name": "python2"
  },
  "language_info": {
   "codemirror_mode": {
    "name": "ipython",
    "version": 2
   },
   "file_extension": ".py",
   "mimetype": "text/x-python",
   "name": "python",
   "nbconvert_exporter": "python",
   "pygments_lexer": "ipython2",
   "version": "2.7.15"
  }
 },
 "nbformat": 4,
 "nbformat_minor": 2
}
