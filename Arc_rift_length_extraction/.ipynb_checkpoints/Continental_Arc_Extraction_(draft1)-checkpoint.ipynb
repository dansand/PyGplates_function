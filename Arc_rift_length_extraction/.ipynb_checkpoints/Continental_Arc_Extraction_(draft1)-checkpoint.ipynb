{
 "cells": [
  {
   "cell_type": "code",
   "execution_count": 27,
   "metadata": {
    "collapsed": true
   },
   "outputs": [],
   "source": [
    "import sys\n",
    "sys.path.insert(1, '/Users/Andrew/Documents/PhD/Scripts/Python/pygplates_rev12')\n",
    "import pygplates\n",
    "import numpy as np\n",
    "import pandas as pd\n",
    "import math\n",
    "import matplotlib.pyplot as plt\n",
    "%matplotlib inline"
   ]
  },
  {
   "cell_type": "code",
   "execution_count": 9,
   "metadata": {
    "collapsed": false
   },
   "outputs": [],
   "source": [
    "#set path to rotation file, shapes etc.\n",
    "input_rotation_model = '/Users/Andrew/Documents/PhD/Models/Rodinia_Models/Palaeozoic_Bridge/1000-410_rotations(finished)_20170508.rot'\n",
    "input_shapes = '/Users/Andrew/Documents/PhD/Models/Rodinia_Models/Palaeozoic_Bridge/RA finished /Neoproterozoic_Palaeozoic_Shapes_20170508.gpml'\n",
    "input_COBs = '/Users/Andrew/Documents/PhD/Models/Rodinia_Models/Palaeozoic_Bridge/Artificial_COBs.gpml'\n",
    "topology_features = ['/Users/Andrew/Documents/PhD/Models/Rodinia_Models/Palaeozoic_Bridge/Convergence_20170424.gpml',\n",
    "                     '/Users/Andrew/Documents/PhD/Models/Rodinia_Models/Palaeozoic_Bridge/Divergence_20170424.gpml',\n",
    "                     '/Users/Andrew/Documents/PhD/Models/Rodinia_Models/Palaeozoic_Bridge/Transfoms_201704124.gpml',     \n",
    "                     '/Users/Andrew/Documents/PhD/Models/Rodinia_Models/Palaeozoic_Bridge/Topologies_20170424.gpml']\n",
    "\n",
    "rotation_model = pygplates.RotationModel(input_rotation_model)\n",
    "shapes = pygplates.FeatureCollection(input_shapes)\n",
    "COBs = pygplates.FeatureCollection(input_COBs)"
   ]
  },
  {
   "cell_type": "code",
   "execution_count": 10,
   "metadata": {
    "collapsed": true
   },
   "outputs": [],
   "source": [
    "#some parameters\n",
    "num_of_time_steps = 1000"
   ]
  },
  {
   "cell_type": "code",
   "execution_count": 89,
   "metadata": {
    "collapsed": false
   },
   "outputs": [
    {
     "name": "stdout",
     "output_type": "stream",
     "text": [
      "8538.65473374\n"
     ]
    }
   ],
   "source": [
    "#for time in range(520, num_of_time_steps + 1, 1):\n",
    " \n",
    "    \n",
    "time =750\n",
    "\n",
    "resolved_topologies = []\n",
    "shared_boundary_sections = []\n",
    "all_tesselated_shared_sub_segment = []\n",
    "continental_arcs = []\n",
    "reconstructed_COBs = []\n",
    "\n",
    "pygplates.resolve_topologies(topology_features, rotation_model, resolved_topologies, time, shared_boundary_sections)\n",
    "pygplates.reconstruct(COBs, rotation_model, reconstructed_COBs, time)\n",
    "for shared_boundary_section in shared_boundary_sections:\n",
    "\n",
    "    if shared_boundary_section.get_feature().get_feature_type() != pygplates.FeatureType.gpml_subduction_zone:\n",
    "        continue\n",
    "\n",
    "\n",
    "    for shared_sub_segment in shared_boundary_section.get_shared_sub_segments():\n",
    "        tmp = shared_sub_segment.get_resolved_geometry()\n",
    "        tesselated_shared_sub_segment = tmp.to_tessellated(np.radians(.2))      \n",
    "        \n",
    "        all_tesselated_shared_sub_segment.append(tesselated_shared_sub_segment)\n",
    "        \n",
    "        for vertex in tesselated_shared_sub_segment:\n",
    "            #print vertex\n",
    "            for COB in reconstructed_COBs:\n",
    "                #print COB.get_reconstructed_geometry()\n",
    "                distance_radians = pygplates.GeometryOnSphere.distance(vertex, COB.get_reconstructed_geometry())*pygplates.Earth.mean_radius_in_kms\n",
    "\n",
    "print np.average(distance_radians)\n",
    "\n"
   ]
  },
  {
   "cell_type": "code",
   "execution_count": 61,
   "metadata": {
    "collapsed": false
   },
   "outputs": [
    {
     "data": {
      "text/plain": [
       "16"
      ]
     },
     "execution_count": 61,
     "metadata": {},
     "output_type": "execute_result"
    }
   ],
   "source": [
    "len(tesselated_shared_sub_segment)"
   ]
  },
  {
   "cell_type": "code",
   "execution_count": null,
   "metadata": {
    "collapsed": true
   },
   "outputs": [],
   "source": []
  }
 ],
 "metadata": {
  "kernelspec": {
   "display_name": "Python 2",
   "language": "python",
   "name": "python2"
  },
  "language_info": {
   "codemirror_mode": {
    "name": "ipython",
    "version": 2
   },
   "file_extension": ".py",
   "mimetype": "text/x-python",
   "name": "python",
   "nbconvert_exporter": "python",
   "pygments_lexer": "ipython2",
   "version": "2.7.13"
  }
 },
 "nbformat": 4,
 "nbformat_minor": 2
}
