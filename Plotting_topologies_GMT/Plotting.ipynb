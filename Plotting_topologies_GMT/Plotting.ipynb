{
 "cells": [
  {
   "cell_type": "code",
   "execution_count": 1,
   "metadata": {
    "collapsed": false
   },
   "outputs": [],
   "source": [
    "import matplotlib.pyplot as plt\n",
    "import numpy as np\n",
    "#from mpl_toolkits.basemap import Basemap\n",
    "from matplotlib.patches import Polygon\n",
    "#import sys\n",
    "#sys.path.insert(1, '/Users/Andrew/Documents/PhD/Scripts/Python/pygplates_rev12')\n",
    "import pygplates\n",
    "import os\n",
    "from IPython.display import Image\n",
    "from resolve_topologies import resolve_topologies as topology2gmt\n",
    "import os\n",
    "from subprocess import check_call\n",
    "%matplotlib inline"
   ]
  },
  {
   "cell_type": "code",
   "execution_count": 62,
   "metadata": {
    "collapsed": false
   },
   "outputs": [],
   "source": [
    "loaddir = '/Users/Andrew/Documents/EarthByte_Models/Global_1000-0_Model_2017/'\n",
    "savedir = '/Users/Andrew/Documents/PhD/Scripts/Scripts_Output/Plotting_topologies/'\n",
    "# Names of input files\n",
    "input_coastlines_filename = '%s/New_polygons_cratons.gpml' % loaddir\n",
    "input_static_polygons_filename = '%s/New_polygons_static_changes.gpml' % loaddir\n",
    "input_rotation_filename = '%s/1000-410_rotations.rot' % loaddir\n",
    "\n",
    "input_topology_filename = ['%s1000-410-Topologies.gpml' % loaddir,\n",
    "                            '%s1000-410-Transforms.gpml' % loaddir,\n",
    "                            '%s1000-410-Convergence.gpml' % loaddir,\n",
    "                            '%s1000-410-Divergence.gpml' % loaddir]\n"
   ]
  },
  {
   "cell_type": "code",
   "execution_count": null,
   "metadata": {
    "collapsed": false,
    "scrolled": true
   },
   "outputs": [
    {
     "name": "stdout",
     "output_type": "stream",
     "text": [
      "410\n",
      "420\n",
      "430\n",
      "440\n",
      "450\n",
      "460\n",
      "470\n",
      "480\n",
      "490\n",
      "500\n",
      "510\n",
      "520\n",
      "530\n",
      "540\n",
      "550\n",
      "560\n",
      "570\n",
      "580\n",
      "590\n",
      "600\n",
      "610\n",
      "620\n",
      "630\n",
      "640\n",
      "650\n",
      "660\n",
      "670\n",
      "680\n",
      "690\n",
      "700\n",
      "710\n",
      "720\n",
      "730\n",
      "740\n",
      "750\n",
      "760\n",
      "770\n",
      "780\n",
      "790\n",
      "800\n",
      "810\n",
      "820\n",
      "830\n",
      "840\n",
      "850\n",
      "860\n",
      "870\n",
      "880\n",
      "890\n",
      "900\n",
      "910\n",
      "920\n",
      "930\n",
      "940\n",
      "950\n",
      "960\n",
      "970\n",
      "980\n",
      "990\n",
      "1000\n"
     ]
    }
   ],
   "source": [
    "# Input parameters to define how the reconstruction is made\n",
    "reconstruction_time = range(410,1010,10)\n",
    "# Name of output files\n",
    "output_static_polygons_filename = '%s/static_polygons.xy' % savedir\n",
    "output_coastlines_filename = '%s/coastlines.xy' % savedir\n",
    "\n",
    "for i in reconstruction_time:\n",
    "    print i\n",
    "    # Use pygplates.reconstruct to carry out the reconstruction, once for each input feature collection\n",
    "    pygplates.reconstruct(input_coastlines_filename, \n",
    "                          input_rotation_filename, \n",
    "                          output_coastlines_filename, \n",
    "                          i)\n",
    "\n",
    "    pygplates.reconstruct(input_static_polygons_filename, \n",
    "                          input_rotation_filename, \n",
    "                          output_static_polygons_filename, \n",
    "                          i)\n",
    "\n",
    "    output_filename_prefix = '%s' % savedir\n",
    "    output_filename_extension = 'gmt'\n",
    "\n",
    "    topology2gmt(input_rotation_filename, \n",
    "                 input_topology_filename, \n",
    "                 i, \n",
    "                 output_filename_prefix, \n",
    "                 output_filename_extension, \n",
    "                 0)  \n",
    "\n",
    "    outfile='%s%s_Ma_gmtplot.ps' % (savedir, i)\n",
    "    #\n",
    "    proj='-JW0/10i'    # uncomment for Mollweide projection\n",
    "    #\n",
    "    os.system('gmt psbasemap -Rg %s -Ba90f30/a30f15 -K -V > %s ' % (proj,outfile))\n",
    "    #\n",
    "    #os.system('gmt psxy -Rg %s -W2.0p,gold -K -O -m boundary_polygons_%0.2fMa.gmt -V >> %s' % (proj,reconstruction_time,outfile))\n",
    "    #\n",
    "    os.system('gmt psxy -Rg %s -W0.1p,gray -Glightsteelblue %s/static_polygons.xy -N -O -K -V >> %s' % (proj, savedir, outfile))\n",
    "    os.system('gmt psxy -Rg %s -W0.2p,white -Gdarkkhaki %s/coastlines.xy -N  -O -K -V >> %s' % (proj, savedir, outfile))\n",
    "    #\n",
    "    os.system('gmt psxy -Rg %s -W1.0p,red -Sf15p/4plt -m %s/subduction_boundaries_sL_%0.2fMa.gmt -Gred -K -O -V >> %s' % (proj, savedir, i,outfile))\n",
    "    os.system('gmt psxy -Rg %s -W1.0p,red -Sf15p/4prt -m %s/subduction_boundaries_sR_%0.2fMa.gmt -Gred -O -V >> %s' % (proj,savedir, i,outfile))\n",
    "    #\n",
    "    os.system('gmt psconvert %s -A -E450 -Tg -P' % outfile)\n",
    "    #\n",
    "    #Image('%s/%s_Ma_gmtplot.ps' % (savedir, i))\n",
    "    #\n",
    "          \n",
    "files = os.listdir(savedir)\n",
    "ext = ['.txt', '.gmt', '.xml', '.ps', '.xy']\n",
    "for file in files:\n",
    "    if file.endswith(tuple(ext)):\n",
    "        os.remove(os.path.join(savedir,file))"
   ]
  },
  {
   "cell_type": "code",
   "execution_count": null,
   "metadata": {
    "collapsed": true
   },
   "outputs": [],
   "source": []
  }
 ],
 "metadata": {
  "kernelspec": {
   "display_name": "Python 2",
   "language": "python",
   "name": "python2"
  },
  "language_info": {
   "codemirror_mode": {
    "name": "ipython",
    "version": 2
   },
   "file_extension": ".py",
   "mimetype": "text/x-python",
   "name": "python",
   "nbconvert_exporter": "python",
   "pygments_lexer": "ipython2",
   "version": "2.7.13"
  }
 },
 "nbformat": 4,
 "nbformat_minor": 2
}
