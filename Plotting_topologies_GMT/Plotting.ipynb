{
 "cells": [
  {
   "cell_type": "code",
   "execution_count": 2,
   "metadata": {
    "collapsed": false
   },
   "outputs": [],
   "source": [
    "import matplotlib.pyplot as plt\n",
    "import numpy as np\n",
    "#from mpl_toolkits.basemap import Basemap\n",
    "from matplotlib.patches import Polygon\n",
    "import sys\n",
    "sys.path.insert(1, '/Users/Andrew/Documents/PhD/Scripts/Python/pygplates_rev12')\n",
    "import pygplates\n",
    "import os\n",
    "from IPython.display import Image\n",
    "from resolve_topologies import resolve_topologies as topology2gmt\n",
    "import os\n",
    "from subprocess import check_call\n",
    "%matplotlib inline"
   ]
  },
  {
   "cell_type": "code",
   "execution_count": 29,
   "metadata": {
    "collapsed": false
   },
   "outputs": [],
   "source": [
    "\n",
    "# Names of input files\n",
    "input_coastlines_filename = '/Users/Andrew/Documents/EarthByte_Models/Global_1000-0_Model_2017/New_polygons_cratons.gpml'\n",
    "input_static_polygons_filename = '/Users/Andrew/Documents/EarthByte_Models/Global_1000-0_Model_2017/New_polygons_static_changes.gpml'\n",
    "input_rotation_filename = '/Users/Andrew/Documents/EarthByte_Models/Global_1000-0_Model_2017/1000-410_rotations.rot'\n",
    "\n",
    "input_topology_filename = ['/Users/Andrew/Documents/EarthByte_Models/Global_1000-0_Model_2017/1000-410-Topologies.gpml',\n",
    "                            '/Users/Andrew/Documents/EarthByte_Models/Global_1000-0_Model_2017/1000-410-Transforms.gpml',\n",
    "                            '/Users/Andrew/Documents/EarthByte_Models/Global_1000-0_Model_2017/1000-410-Convergence.gpml',\n",
    "                            '/Users/Andrew/Documents/EarthByte_Models/Global_1000-0_Model_2017/1000-410-Divergence.gpml']\n",
    "\n",
    "# Input parameters to define how the reconstruction is made\n",
    "reconstruction_time = 600\n",
    "\n",
    "basedir_save = '/Users/Andrew/Documents/PhD/Scripts/Scripts_Output/Python/1000-0_Ma'\n",
    "# Name of output files\n",
    "output_static_polygons_filename = './static_polygons.xy'\n",
    "output_coastlines_filename = './coastlines.xy'\n"
   ]
  },
  {
   "cell_type": "code",
   "execution_count": 31,
   "metadata": {
    "collapsed": false
   },
   "outputs": [
    {
     "name": "stdout",
     "output_type": "stream",
     "text": [
      "420\n",
      "430\n",
      "440\n",
      "450\n",
      "460\n",
      "470\n",
      "480\n",
      "490\n",
      "500\n",
      "510\n",
      "520\n",
      "530\n",
      "540\n",
      "550\n",
      "560\n",
      "570\n",
      "580\n",
      "590\n",
      "600\n",
      "610\n",
      "620\n",
      "630\n",
      "640\n",
      "650\n",
      "660\n",
      "670\n",
      "680\n",
      "690\n",
      "700\n"
     ]
    }
   ],
   "source": [
    "os.system('rm *.gmt *.xml *.ps')\n",
    "\n",
    "# Input parameters to define how the reconstruction is made\n",
    "reconstruction_time = range(420,710,10)\n",
    "basedir_save = '/Users/Andrew/Documents/PhD/Scripts/Scripts_Output/Python/1000-0_Ma'\n",
    "# Name of output files\n",
    "output_static_polygons_filename = './static_polygons.xy'\n",
    "output_coastlines_filename = './coastlines.xy'\n",
    "\n",
    "for i in reconstruction_time:\n",
    "    print i\n",
    "    # Use pygplates.reconstruct to carry out the reconstruction, once for each input feature collection\n",
    "    pygplates.reconstruct(input_coastlines_filename, \n",
    "                          input_rotation_filename, \n",
    "                          output_coastlines_filename, \n",
    "                          i)\n",
    "\n",
    "    pygplates.reconstruct(input_static_polygons_filename, \n",
    "                          input_rotation_filename, \n",
    "                          output_static_polygons_filename, \n",
    "                          i)\n",
    "\n",
    "    output_filename_prefix = ''\n",
    "    output_filename_extension = 'gmt'\n",
    "\n",
    "    topology2gmt(input_rotation_filename, \n",
    "                 input_topology_filename, \n",
    "                 i, \n",
    "                 output_filename_prefix, \n",
    "                 output_filename_extension, \n",
    "                 0)  \n",
    "\n",
    "    outfile='./%s_Ma_gmtplot.ps' % i\n",
    "    #\n",
    "    proj='-JW0/10i'    # uncomment for Mollweide projection\n",
    "    #\n",
    "    os.system('gmt psbasemap -Rg %s -Ba90f30/a30f15 -K > %s ' % (proj,outfile))\n",
    "    #\n",
    "    #os.system('gmt psxy -Rg %s -W2.0p,gold -K -O -m boundary_polygons_%0.2fMa.gmt -V >> %s' % (proj,reconstruction_time,outfile))\n",
    "    #\n",
    "    os.system('gmt psxy -Rg %s -W0.1p,gray -Glightsteelblue ./static_polygons.xy -N -O -K -V >> %s' % (proj,outfile))\n",
    "    os.system('gmt psxy -Rg %s -W0.2p,white -Gdarkkhaki ./coastlines.xy -N  -O -K -V >> %s' % (proj,outfile))\n",
    "    #\n",
    "    os.system('gmt psxy -Rg %s -W1.0p,red -Sf15p/4plt -m subduction_boundaries_sL_%0.2fMa.gmt -Gred -K -O -V >> %s' % (proj,i,outfile))\n",
    "    os.system('gmt psxy -Rg %s -W1.0p,red -Sf15p/4prt -m subduction_boundaries_sR_%0.2fMa.gmt -Gred -O  >> %s' % (proj,i,outfile))\n",
    "    #\n",
    "    os.system('gmt psconvert %s -A -E450 -Tg -P' % outfile)\n",
    "    #\n",
    "    Image('%s_Ma_gmtplot.png' % i)\n",
    "    #"
   ]
  },
  {
   "cell_type": "code",
   "execution_count": 26,
   "metadata": {
    "collapsed": false
   },
   "outputs": [
    {
     "data": {
      "text/plain": [
       "0"
      ]
     },
     "execution_count": 26,
     "metadata": {},
     "output_type": "execute_result"
    }
   ],
   "source": [
    "os.system('rm *.gmt *.xml *.ps')\n"
   ]
  },
  {
   "cell_type": "code",
   "execution_count": null,
   "metadata": {
    "collapsed": true
   },
   "outputs": [],
   "source": []
  }
 ],
 "metadata": {
  "kernelspec": {
   "display_name": "Python 2",
   "language": "python",
   "name": "python2"
  },
  "language_info": {
   "codemirror_mode": {
    "name": "ipython",
    "version": 2
   },
   "file_extension": ".py",
   "mimetype": "text/x-python",
   "name": "python",
   "nbconvert_exporter": "python",
   "pygments_lexer": "ipython2",
   "version": "2.7.13"
  }
 },
 "nbformat": 4,
 "nbformat_minor": 2
}
