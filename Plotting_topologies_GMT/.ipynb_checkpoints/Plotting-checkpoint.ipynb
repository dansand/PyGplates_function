{
 "cells": [
  {
   "cell_type": "code",
   "execution_count": null,
   "metadata": {
    "collapsed": false
   },
   "outputs": [],
   "source": [
    "import sys\n",
    "sys.path.insert(1, '/Users/Andrew/Documents/PhD/Scripts/Python/pygplates_rev12')\n",
    "import pygplates\n",
    "\n",
    "# Names of input files\n",
    "input_coastlines_filename = '/Users/Andrew/Documents/EarthByte_Models/Global_1000-0_Model_2017/New_polygons_cratons.gpml'\n",
    "input_static_polygons_filename = '/Users/Andrew/Documents/EarthByte_Models/Global_1000-0_Model_2017/New_polygons_static_changes.gpml'\n",
    "input_rotation_filename = '/Users/Andrew/Documents/EarthByte_Models/Global_1000-0_Model_2017/1000-410_rotations.rot'\n",
    "\n",
    "# Input parameters to define how the reconstruction is made\n",
    "reconstruction_time = 500\n",
    "\n",
    "basedir_save = '/Users/Andrew/Documents/PhD/Scripts/Scripts_Output/Python/1000-0_Ma'\n",
    "# Name of output files\n",
    "output_static_polygons_filename = './static_polygons.xy'\n",
    "output_coastlines_filename = './coastlines.xy'\n",
    "\n",
    "# Use pygplates.reconstruct to carry out the reconstruction, once for each input feature collection\n",
    "pygplates.reconstruct(input_coastlines_filename, input_rotation_filename, output_coastlines_filename, reconstruction_time)\n",
    "\n",
    "pygplates.reconstruct(input_static_polygons_filename, input_rotation_filename, output_static_polygons_filename, reconstruction_time)"
   ]
  },
  {
   "cell_type": "code",
   "execution_count": null,
   "metadata": {
    "collapsed": false
   },
   "outputs": [],
   "source": [
    "import os\n",
    "from IPython.display import Image\n",
    "\n",
    "outfile='./gmtplot.ps'\n",
    "\n",
    "# Select a projection - central meridian is set to 30 deg longitude for each\n",
    "#proj='-Ji30/0.02i'  # uncomment for Sinusoidal projection\n",
    "#proj='-JN30/5i'      # uncomment for Robinson projection\n",
    "proj='-JW30/10i'    # uncomment for Mollweide projection\n",
    "\n",
    "os.system('gmt psbasemap -Rg %s -Ba90f30/a30f15 -K > %s ' % (proj,outfile))\n",
    "os.system('gmt psxy -Rg %s -W0.1p,gray -Glightsteelblue ./static_polygons.xy -O -K -N >> %s' % (proj,outfile))\n",
    "os.system('gmt psxy -Rg %s -W0.2p,white -Gdarkkhaki ./coastlines.xy -O -N >> %s' % (proj,outfile))\n",
    "os.system('gmt psconvert %s -A -E450 -Tg -P' % outfile)\n",
    "\n",
    "Image('./gmtplot.png')\n"
   ]
  },
  {
   "cell_type": "code",
   "execution_count": null,
   "metadata": {
    "collapsed": false
   },
   "outputs": [],
   "source": [
    "from pygplates import resolve_topologies as topology2gmt"
   ]
  },
  {
   "cell_type": "code",
   "execution_count": 4,
   "metadata": {
    "collapsed": false
   },
   "outputs": [
    {
     "ename": "NameError",
     "evalue": "name 'input_topology_filename' is not defined",
     "output_type": "error",
     "traceback": [
      "\u001b[0;31m---------------------------------------------------------------------------\u001b[0m",
      "\u001b[0;31mNameError\u001b[0m                                 Traceback (most recent call last)",
      "\u001b[0;32m<ipython-input-4-32c8f147adfa>\u001b[0m in \u001b[0;36m<module>\u001b[0;34m()\u001b[0m\n\u001b[1;32m      2\u001b[0m \u001b[0mresolved_topologies\u001b[0m \u001b[0;34m=\u001b[0m \u001b[0;34m[\u001b[0m\u001b[0;34m]\u001b[0m\u001b[0;34m\u001b[0m\u001b[0m\n\u001b[1;32m      3\u001b[0m \u001b[0moutput_filename_extension\u001b[0m \u001b[0;34m=\u001b[0m \u001b[0;34m'gmt'\u001b[0m\u001b[0;34m\u001b[0m\u001b[0m\n\u001b[0;32m----> 4\u001b[0;31m pygplates.resolve_topologies(input_topology_filename, \n\u001b[0m\u001b[1;32m      5\u001b[0m                                      \u001b[0mrotation_model\u001b[0m\u001b[0;34m,\u001b[0m\u001b[0;34m\u001b[0m\u001b[0m\n\u001b[1;32m      6\u001b[0m                              \u001b[0mresolved_topologies\u001b[0m\u001b[0;34m,\u001b[0m\u001b[0;34m\u001b[0m\u001b[0m\n",
      "\u001b[0;31mNameError\u001b[0m: name 'input_topology_filename' is not defined"
     ]
    }
   ],
   "source": [
    "rotation_model = pygplates.RotationModel(input_rotation_filename)\n",
    "resolved_topologies = []\n",
    "output_filename_extension = 'gmt'\n",
    "pygplates.resolve_topologies(input_topology_filename, \n",
    "                                     rotation_model, \n",
    "                             resolved_topologies,\n",
    "                            600,\n",
    "                            '.gmt')"
   ]
  },
  {
   "cell_type": "code",
   "execution_count": null,
   "metadata": {
    "collapsed": false
   },
   "outputs": [],
   "source": [
    "resolved_topologies"
   ]
  },
  {
   "cell_type": "code",
   "execution_count": 1,
   "metadata": {
    "collapsed": false
   },
   "outputs": [
    {
     "ename": "NameError",
     "evalue": "name 'pygplates' is not defined",
     "output_type": "error",
     "traceback": [
      "\u001b[0;31m---------------------------------------------------------------------------\u001b[0m",
      "\u001b[0;31mNameError\u001b[0m                                 Traceback (most recent call last)",
      "\u001b[0;32m<ipython-input-1-65511fc013c3>\u001b[0m in \u001b[0;36m<module>\u001b[0;34m()\u001b[0m\n\u001b[1;32m     12\u001b[0m \u001b[0moutput_filename_extension\u001b[0m \u001b[0;34m=\u001b[0m \u001b[0;34m'xy'\u001b[0m\u001b[0;34m\u001b[0m\u001b[0m\n\u001b[1;32m     13\u001b[0m \u001b[0mreconstruction_time\u001b[0m \u001b[0;34m=\u001b[0m \u001b[0;36m600\u001b[0m\u001b[0;34m\u001b[0m\u001b[0m\n\u001b[0;32m---> 14\u001b[0;31m pygplates.resolve_topologies(input_topology_filename, \n\u001b[0m\u001b[1;32m     15\u001b[0m                                      \u001b[0mrotation_model\u001b[0m\u001b[0;34m,\u001b[0m\u001b[0;34m\u001b[0m\u001b[0m\n\u001b[1;32m     16\u001b[0m                              \u001b[0moutput_filename_prefix\u001b[0m\u001b[0;34m,\u001b[0m\u001b[0;34m\u001b[0m\u001b[0m\n",
      "\u001b[0;31mNameError\u001b[0m: name 'pygplates' is not defined"
     ]
    }
   ],
   "source": [
    "#import resolve_topologies as topology2gmt\n",
    "\n",
    "input_topology_filename = ['/Users/Andrew/Documents/EarthByte_Models/Global_1000-0_Model_2017/1000-410-Topologies.gpml',\n",
    "                            '/Users/Andrew/Documents/EarthByte_Models/Global_1000-0_Model_2017/1000-410-Transforms.gpml',\n",
    "                            '/Users/Andrew/Documents/EarthByte_Models/Global_1000-0_Model_2017/1000-410-Convergence.gpml',\n",
    "                            '/Users/Andrew/Documents/EarthByte_Models/Global_1000-0_Model_2017/1000-410-Divergence.gpml']\n",
    "\n",
    "#reconstruction_time = 180\n",
    "\n",
    "\n",
    "output_filename_prefix = ''\n",
    "output_filename_extension = 'xy'\n",
    "reconstruction_time = 600\n",
    "pygplates.resolve_topologies(input_topology_filename, \n",
    "                                     rotation_model, \n",
    "                             output_filename_prefix,\n",
    "                            output_filename_extension,\n",
    "                            reconstruction_time)\n",
    "            \n",
    "            \n",
    "            \n",
    "            \n",
    "            \n",
    "\n",
    "outfile='./gmtplot.ps'\n",
    "\n",
    "proj='-JW30/10i'    # uncomment for Mollweide projection\n",
    "\n",
    "os.system('gmt psbasemap -Rg %s -Ba90f30/a30f15 -K > %s ' % (proj,outfile))\n",
    "\n",
    "os.system('gmt psxy -Rg %s -W2.0p,gold -K -O -m boundary_polygons_%0.2fMa.gmt -V >> %s' % (proj,reconstruction_time,outfile))\n",
    "\n",
    "os.system('gmt psxy -Rg %s -W0.1p,gray -Glightsteelblue ./static_polygons.xy -O -K -N >> %s' % (proj,outfile))\n",
    "os.system('gmt psxy -Rg %s -W0.2p,white -Gdarkkhaki ./coastlines.xy -O -K -N >> %s' % (proj,outfile))\n",
    "\n",
    "os.system('gmt psxy -Rg %s -W2.0p,red -Sf15p/4plt -K -O -m subduction_boundaries_sL_%0.2fMa.gmt -Gred -V >> %s' % (proj,reconstruction_time,outfile))\n",
    "os.system('gmt psxy -Rg %s -W2.0p,red -Sf15p/4prt -O -m subduction_boundaries_sR_%0.2fMa.gmt -Gred -V >> %s' % (proj,reconstruction_time,outfile))\n",
    "\n",
    "os.system('gmt psconvert %s -A -E450 -Tg -P' % outfile)\n",
    "\n",
    "Image('gmtplot.png')\n"
   ]
  },
  {
   "cell_type": "code",
   "execution_count": null,
   "metadata": {
    "collapsed": true
   },
   "outputs": [],
   "source": []
  }
 ],
 "metadata": {
  "kernelspec": {
   "display_name": "Python 2",
   "language": "python",
   "name": "python2"
  },
  "language_info": {
   "codemirror_mode": {
    "name": "ipython",
    "version": 2
   },
   "file_extension": ".py",
   "mimetype": "text/x-python",
   "name": "python",
   "nbconvert_exporter": "python",
   "pygments_lexer": "ipython2",
   "version": "2.7.13"
  }
 },
 "nbformat": 4,
 "nbformat_minor": 2
}
