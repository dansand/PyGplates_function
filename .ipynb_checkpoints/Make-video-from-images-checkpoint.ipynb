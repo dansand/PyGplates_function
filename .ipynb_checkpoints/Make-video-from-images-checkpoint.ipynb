{
 "cells": [
  {
   "cell_type": "code",
   "execution_count": 1,
   "metadata": {
    "collapsed": true
   },
   "outputs": [],
   "source": [
    "import glob\n",
    "import os\n",
    "import moviepy.editor as mpy\n",
    "from moviepy.editor import *\n",
    "from IPython.display import Image"
   ]
  },
  {
   "cell_type": "code",
   "execution_count": 2,
   "metadata": {
    "collapsed": true
   },
   "outputs": [],
   "source": [
    "basedir_save = '/Users/Andrew/Documents/PhD/Scripts/Scripts_Output/Python/animations/' #set basedir for saving"
   ]
  },
  {
   "cell_type": "code",
   "execution_count": 3,
   "metadata": {
    "collapsed": true
   },
   "outputs": [],
   "source": [
    "#sort numerically because glob doens't >.>\n",
    "import re\n",
    "\n",
    "#turn a string of numbers in a file name into integers\n",
    "def tryint(s):\n",
    "    try:\n",
    "        return int(s)\n",
    "    except ValueError:\n",
    "        return s\n",
    "\n",
    "#split a filename into alpha and numerical components\n",
    "def alphanum_key(s):\n",
    "    return [tryint(c) for c in re.split('([0-9]+)', s)]\n",
    "\n",
    "def sort_nicely(l):\n",
    "    return sorted(l, key=alphanum_key)"
   ]
  },
  {
   "cell_type": "code",
   "execution_count": 4,
   "metadata": {
    "collapsed": false
   },
   "outputs": [],
   "source": [
    "#use glob to load all the images we need\n",
    "#pathdir = '/Users/Andrew/Documents/PhD/Scripts/Scripts_Output/Python/2017_Rift_SZ_length/output1/snapshots/*.png'\n",
    "pathdir = '/Users/Andrew/Documents/PhD/Scripts/Gplates_Output/Animations/*.jpeg'\n",
    "frame_list = (glob.glob(pathdir))\n",
    "sorted_frame_list = sort_nicely(frame_list)\n",
    "\n",
    "sorted_frame_list.reverse()"
   ]
  },
  {
   "cell_type": "code",
   "execution_count": 5,
   "metadata": {
    "collapsed": false
   },
   "outputs": [],
   "source": [
    "##Check for existing output directory and create it if not found\n",
    "#if not os.path.exists('%s/output1/snapshots' % basedir_save):\n",
    "#    os.makedirs('%s/output1/snapshots' % basedir_save)\n",
    "#\n",
    "##Check for existing output file with same name and remove if found\n",
    "#if os.path.isfile('%soutput1/snapshots/' % basedir_save):\n",
    "#    os.remove('%soutput1/snapshots/' % basedir_save)\n",
    "    \n",
    "#Check for existing output directory and create it if not found\n",
    "if not os.path.exists('%s/output1/snapshots' % basedir_save):\n",
    "    os.makedirs('%s/output1/snapshots' % basedir_save)\n",
    "\n",
    "#Check for existing output file with same name and remove if found\n",
    "if os.path.isfile('%soutput1/snapshots/' % basedir_save):\n",
    "\n",
    "    os.remove('%soutput1/snapshots/' % basedir_save)"
   ]
  },
  {
   "cell_type": "code",
   "execution_count": 6,
   "metadata": {
    "collapsed": false
   },
   "outputs": [
    {
     "name": "stdout",
     "output_type": "stream",
     "text": [
      "[MoviePy] >>>> Building video /Users/Andrew/Documents/PhD/Scripts/Scripts_Output/Python/animations/output1/snapshots/1000-0.mp4\n",
      "[MoviePy] Writing video /Users/Andrew/Documents/PhD/Scripts/Scripts_Output/Python/animations/output1/snapshots/1000-0.mp4\n"
     ]
    },
    {
     "name": "stderr",
     "output_type": "stream",
     "text": [
      "100%|██████████| 1002/1002 [00:45<00:00, 20.78it/s]\n"
     ]
    },
    {
     "name": "stdout",
     "output_type": "stream",
     "text": [
      "[MoviePy] Done.\n",
      "[MoviePy] >>>> Video ready: /Users/Andrew/Documents/PhD/Scripts/Scripts_Output/Python/animations/output1/snapshots/1000-0.mp4 \n",
      "\n"
     ]
    }
   ],
   "source": [
    "clip = mpy.ImageSequenceClip(sorted_frame_list, fps=15) #turn them into a little movie\n",
    "clip.write_videofile('%soutput1/snapshots/1000-0.mp4' % basedir_save)#save output"
   ]
  },
  {
   "cell_type": "code",
   "execution_count": 7,
   "metadata": {
    "collapsed": false
   },
   "outputs": [
    {
     "name": "stderr",
     "output_type": "stream",
     "text": [
      "100%|█████████▉| 1002/1003 [00:12<00:00, 77.56it/s]\n"
     ]
    },
    {
     "ename": "ValueError",
     "evalue": "The duration of video __temp__.mp4 (66.8) exceeds the 'max_duration' attribute. You can increase 'max_duration', but note that embedding large videos may take all the memory away !",
     "output_type": "error",
     "traceback": [
      "\u001b[0;31m---------------------------------------------------------------------------\u001b[0m",
      "\u001b[0;31mValueError\u001b[0m                                Traceback (most recent call last)",
      "\u001b[0;32m<ipython-input-7-9c6f5de45c5d>\u001b[0m in \u001b[0;36m<module>\u001b[0;34m()\u001b[0m\n\u001b[1;32m      1\u001b[0m \u001b[0mclip\u001b[0m \u001b[0;34m=\u001b[0m \u001b[0mVideoFileClip\u001b[0m\u001b[0;34m(\u001b[0m\u001b[0;34m'%soutput1/snapshots/1000-0.mp4'\u001b[0m \u001b[0;34m%\u001b[0m \u001b[0mbasedir_save\u001b[0m\u001b[0;34m)\u001b[0m\u001b[0;34m\u001b[0m\u001b[0m\n\u001b[0;32m----> 2\u001b[0;31m \u001b[0mipython_display\u001b[0m\u001b[0;34m(\u001b[0m\u001b[0mclip\u001b[0m\u001b[0;34m,\u001b[0m \u001b[0mheight\u001b[0m\u001b[0;34m=\u001b[0m\u001b[0;36m400\u001b[0m\u001b[0;34m)\u001b[0m\u001b[0;34m\u001b[0m\u001b[0m\n\u001b[0m",
      "\u001b[0;32m//anaconda/lib/python2.7/site-packages/moviepy/video/io/html_tools.pyc\u001b[0m in \u001b[0;36mipython_display\u001b[0;34m(clip, filetype, maxduration, t, fps, rd_kwargs, center, **html_kwargs)\u001b[0m\n\u001b[1;32m    217\u001b[0m \u001b[0;34m\u001b[0m\u001b[0m\n\u001b[1;32m    218\u001b[0m     return HTML2(html_embed(clip, filetype=filetype, maxduration=maxduration,\n\u001b[0;32m--> 219\u001b[0;31m                 center=center, rd_kwargs=rd_kwargs, **html_kwargs))\n\u001b[0m",
      "\u001b[0;32m//anaconda/lib/python2.7/site-packages/moviepy/video/io/html_tools.pyc\u001b[0m in \u001b[0;36mhtml_embed\u001b[0;34m(clip, filetype, maxduration, rd_kwargs, center, **html_kwargs)\u001b[0m\n\u001b[1;32m    105\u001b[0m \u001b[0;34m\u001b[0m\u001b[0m\n\u001b[1;32m    106\u001b[0m         return html_embed(filename, maxduration=maxduration, rd_kwargs=rd_kwargs,\n\u001b[0;32m--> 107\u001b[0;31m                            center=center, **html_kwargs)\n\u001b[0m\u001b[1;32m    108\u001b[0m \u001b[0;34m\u001b[0m\u001b[0m\n\u001b[1;32m    109\u001b[0m     \u001b[0mfilename\u001b[0m \u001b[0;34m=\u001b[0m \u001b[0mclip\u001b[0m\u001b[0;34m\u001b[0m\u001b[0m\n",
      "\u001b[0;32m//anaconda/lib/python2.7/site-packages/moviepy/video/io/html_tools.pyc\u001b[0m in \u001b[0;36mhtml_embed\u001b[0;34m(clip, filetype, maxduration, rd_kwargs, center, **html_kwargs)\u001b[0m\n\u001b[1;32m    140\u001b[0m         \u001b[0;32mif\u001b[0m \u001b[0mduration\u001b[0m \u001b[0;34m>\u001b[0m \u001b[0mmaxduration\u001b[0m\u001b[0;34m:\u001b[0m\u001b[0;34m\u001b[0m\u001b[0m\n\u001b[1;32m    141\u001b[0m             raise ValueError(\"The duration of video %s (%.1f) exceeds the 'max_duration' \"%(filename, duration)+\n\u001b[0;32m--> 142\u001b[0;31m                              \u001b[0;34m\"attribute. You can increase 'max_duration', \"\u001b[0m\u001b[0;34m\u001b[0m\u001b[0m\n\u001b[0m\u001b[1;32m    143\u001b[0m                              \"but note that embedding large videos may take all the memory away !\")\n\u001b[1;32m    144\u001b[0m \u001b[0;34m\u001b[0m\u001b[0m\n",
      "\u001b[0;31mValueError\u001b[0m: The duration of video __temp__.mp4 (66.8) exceeds the 'max_duration' attribute. You can increase 'max_duration', but note that embedding large videos may take all the memory away !"
     ]
    }
   ],
   "source": [
    "clip = VideoFileClip('%soutput1/snapshots/1000-0.mp4' % basedir_save)\n",
    "ipython_display(clip, height=400)"
   ]
  },
  {
   "cell_type": "code",
   "execution_count": null,
   "metadata": {
    "collapsed": true
   },
   "outputs": [],
   "source": []
  }
 ],
 "metadata": {
  "kernelspec": {
   "display_name": "Python 2",
   "language": "python",
   "name": "python2"
  },
  "language_info": {
   "codemirror_mode": {
    "name": "ipython",
    "version": 2
   },
   "file_extension": ".py",
   "mimetype": "text/x-python",
   "name": "python",
   "nbconvert_exporter": "python",
   "pygments_lexer": "ipython2",
   "version": "2.7.13"
  }
 },
 "nbformat": 4,
 "nbformat_minor": 2
}
