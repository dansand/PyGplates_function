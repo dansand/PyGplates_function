{
 "cells": [
  {
   "cell_type": "code",
   "execution_count": 7,
   "metadata": {
    "collapsed": true
   },
   "outputs": [],
   "source": [
    "def Get_FZ_Directions(X1,Y1,X2,Y2):\n",
    "\n",
    "    #to determine orientation of MOR from north from flowline segments\n",
    "    #x1/y1 lat/lon start point of MOR\n",
    "    #x2/y2 lat/lon end point of MOR\n",
    "    \n",
    "    long1 = np.radians(X1)\n",
    "    long2 = np.radians(X2)\n",
    "    lat1 = np.radians(Y1)\n",
    "    lat2 = np.radians(Y2)\n",
    "\n",
    "    bearing = np.arctan2(np.sin(long2-long1)*np.cos(lat2), np.cos(lat1)*np.sin(lat2)-np.sin(lat1)*np.cos(lat2)*np.cos(long2-long1))\n",
    "    bearing = np.degrees(bearing)\n",
    "    bearing = (bearing + 360) % 360\n",
    "\n",
    "    return bearing"
   ]
  },
  {
   "cell_type": "code",
   "execution_count": 8,
   "metadata": {
    "collapsed": true
   },
   "outputs": [],
   "source": [
    "def poles_of_rotation(to_time, from_time, delta_time, rotation_model, moving_plate, fixed_plate):\n",
    "\n",
    "    #loop through a rotation in specific time intervals to extract poles of rotation between two plates\n",
    "\n",
    "    #create variables\n",
    "    Lats = []\n",
    "    Longs = []\n",
    "    Angles = []\n",
    "    time_change = []\n",
    "    \n",
    "    for time in np.arange(to_time,from_time,delta_time):\n",
    "\n",
    "        to_time = time\n",
    "        from_time = time+delta_time\n",
    "        stage_rotation = rotation_model.get_rotation(to_time,moving_plate,from_time,fixed_plate)\n",
    "\n",
    "        pole_lat,pole_lon,pole_angle = stage_rotation.get_lat_lon_euler_pole_and_angle_degrees()\n",
    "\n",
    "        #to make sure that all poles are expressed in the same hemisphere\n",
    "        if pole_angle < 0:\n",
    "            pole_lat = -1*pole_lat\n",
    "            pole_lon = pole_lon-180\n",
    "            pole_angle = -1*pole_angle\n",
    "\n",
    "\n",
    "        time_change.append(from_time)\n",
    "        #print 'Time interval = ',time,'-',time+delta_time,', Stage Pole Lat,Lon,Angle = %f,%f,%f ' % (pole_lat,pole_lon,pole_angle) #check values if necessary\n",
    "        Lats.append(pole_lat)\n",
    "        Longs.append(pole_lon)\n",
    "        Angles.append(np.radians(pole_angle))\n",
    "\n",
    "    # These next lines are necessary becuase the answers come out in the northern hemisphere, \n",
    "    # need to check convention\n",
    "    Longs = np.add(Longs,180.)\n",
    "    Lats = np.multiply(Lats,-1)\n",
    "    \n",
    "    return Longs, Lats, Angles, time_change"
   ]
  },
  {
   "cell_type": "code",
   "execution_count": 9,
   "metadata": {
    "collapsed": true
   },
   "outputs": [],
   "source": [
    "def plotting_geometries(rotation_model, topology_features, time, delta_time):\n",
    "    \n",
    "    #extract geometries from a reconstructed file for plotting\n",
    "    \n",
    "    all_reconstructed_points = []\n",
    "    all_velocities = []\n",
    "    xy_reconstructed_points = []\n",
    "    \n",
    "    for feature in topology_features:\n",
    "\n",
    "        # We need the feature's plate ID to get the equivalent stage rotation of that tectonic plate.\n",
    "        domain_plate_id = feature.get_reconstruction_plate_id()\n",
    "\n",
    "        # Get the rotation of plate 'domain_plate_id' from present day (0Ma) to 'reconstruction_time'.\n",
    "        equivalent_total_rotation = rotation_model.get_rotation(time, domain_plate_id)\n",
    "\n",
    "        # Get the rotation of plate 'domain_plate_id' from 'reconstruction_time + delta_time' to 'reconstruction_time'.\n",
    "        equivalent_stage_rotation = rotation_model.get_rotation(time, domain_plate_id, time + delta_time)\n",
    "\n",
    "        for geometry in feature.get_geometries():\n",
    "\n",
    "            # Reconstruct the geometry to 'reconstruction_time'.\n",
    "            reconstructed_geometry = equivalent_total_rotation * geometry\n",
    "            reconstructed_points = reconstructed_geometry.get_points()\n",
    "            xy_reconstructed_points = reconstructed_points.to_lat_lon_array()\n",
    "\n",
    "            all_reconstructed_points.append(xy_reconstructed_points)\n",
    "\n",
    "    poly_longs = []\n",
    "    poly_lats = []\n",
    "    for i in all_reconstructed_points:\n",
    "        j = i[:,0]\n",
    "        k = i[:,1]\n",
    "        poly_longs.append(k)\n",
    "        poly_lats.append(j)\n",
    "        \n",
    "    return poly_lats, poly_longs, all_reconstructed_points"
   ]
  },
  {
   "cell_type": "code",
   "execution_count": 10,
   "metadata": {
    "collapsed": true
   },
   "outputs": [],
   "source": [
    "def wrapping_polysomethings(poly_lats, poly_longs):\n",
    "    #\n",
    "    #needs pygplates\n",
    "    #to wrap polygons around the dateline for plotting \n",
    "    #\n",
    "    \n",
    "    latitudes = np.asarray(poly_lats)\n",
    "    longitudes = np.asarray(poly_longs)\n",
    "    polyline = pygplates.PolylineOnSphere(zip(latitudes, longitudes))\n",
    "    wrapped_polylines = date_line_wrapper.wrap(polyline)\n",
    "    for wrapped_polyline in wrapped_polylines:\n",
    "        wrapped_points = wrapped_polyline.get_points()\n",
    "        wrapped_points_lat = []\n",
    "        wrapped_points_lon = []\n",
    "        for wrapped_point in wrapped_points:\n",
    "            wrapped_point_lat, wrapped_point_lon = wrapped_point.get_latitude(), wrapped_point.get_longitude()\n",
    "            wrapped_points_lat.append(wrapped_point_lat)\n",
    "            wrapped_points_lon.append(wrapped_point_lon)\n",
    "\n",
    "        wrapped_points_lat = np.array(wrapped_points_lat)\n",
    "        wrapped_points_lon = np.array(wrapped_points_lon)\n",
    "\n",
    "        return wrapped_points_lat, wrapped_points_lon"
   ]
  },
  {
   "cell_type": "code",
   "execution_count": null,
   "metadata": {
    "collapsed": true
   },
   "outputs": [],
   "source": []
  }
 ],
 "metadata": {
  "kernelspec": {
   "display_name": "Python 2",
   "language": "python",
   "name": "python2"
  },
  "language_info": {
   "codemirror_mode": {
    "name": "ipython",
    "version": 2
   },
   "file_extension": ".py",
   "mimetype": "text/x-python",
   "name": "python",
   "nbconvert_exporter": "python",
   "pygments_lexer": "ipython2",
   "version": "2.7.13"
  }
 },
 "nbformat": 4,
 "nbformat_minor": 0
}
