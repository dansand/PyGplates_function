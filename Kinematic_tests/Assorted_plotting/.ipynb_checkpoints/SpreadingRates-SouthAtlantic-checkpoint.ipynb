{
 "cells": [
  {
   "cell_type": "code",
   "execution_count": 1,
   "metadata": {
    "collapsed": false
   },
   "outputs": [
    {
     "name": "stderr",
     "output_type": "stream",
     "text": [
      "/Users/Andrew/anaconda/lib/python2.7/site-packages/matplotlib/font_manager.py:273: UserWarning: Matplotlib is building the font cache using fc-list. This may take a moment.\n",
      "  warnings.warn('Matplotlib is building the font cache using fc-list. This may take a moment.')\n"
     ]
    }
   ],
   "source": [
    "import sys\n",
    "sys.path.insert(1, '/Users/Andrew/Documents/PhD/Scripts/Python/pygplates_rev12')\n",
    "import pygplates\n",
    "import numpy as np\n",
    "import glob\n",
    "import os\n",
    "import matplotlib as mpl\n",
    "import matplotlib.pyplot as plt\n",
    "from mpl_toolkits.basemap import Basemap, shiftgrid\n",
    "\n",
    "%matplotlib inline"
   ]
  },
  {
   "cell_type": "code",
   "execution_count": 2,
   "metadata": {
    "collapsed": false
   },
   "outputs": [],
   "source": [
    "def Get_FZ_Directions(X1,Y1,X2,Y2):\n",
    "    long1 = np.radians(X1)\n",
    "    long2 = np.radians(X2)\n",
    "    lat1 = np.radians(Y1)\n",
    "    lat2 = np.radians(Y2)\n",
    "\n",
    "    bearing = np.arctan2(np.sin(long2-long1)*np.cos(lat2), np.cos(lat1)*np.sin(lat2)-np.sin(lat1)*np.cos(lat2)*np.cos(long2-long1))\n",
    "    bearing = np.degrees(bearing)\n",
    "    bearing = (bearing + 360) % 360\n",
    "\n",
    "    return bearing"
   ]
  },
  {
   "cell_type": "code",
   "execution_count": 3,
   "metadata": {
    "collapsed": false
   },
   "outputs": [
    {
     "name": "stdout",
     "output_type": "stream",
     "text": [
      "[[<pygplates.ReconstructedFlowline object at 0x115840c20>, <pygplates.ReconstructedFlowline object at 0x115840a70>, <pygplates.ReconstructedFlowline object at 0x115840d40>, <pygplates.ReconstructedFlowline object at 0x115840dd0>], [<pygplates.ReconstructedFlowline object at 0x115840e60>]]\n"
     ]
    }
   ],
   "source": [
    "#PathToPlateModel = '/Users/Simon/Data/EByteSVN/EByteDeformingModels/Global_Model_WD_Internal_Release_2015_v1/'\n",
    "rotation_filename = '/Users/Andrew/Documents/PhD/Models/Muller_etal_AREPS_Supplement/Global_EarthByte_230-0Ma_GK07_AREPS.rot'\n",
    "\n",
    "\n",
    "Region = 'SouthAtlantic'\n",
    "\n",
    "if Region is 'SouthAtlantic':\n",
    "    SeedPoints = zip([-5,-15,-25,-35,-45],[-11.8,-12.8,-15.5,-16,-15.5])\n",
    "    left_plate = 701\n",
    "    right_plate = 201\n",
    "    times = np.asarray([0,10.9,20.1,33.1,40.1,47.9,55.9,60.1,67.7,83,96,120.4,125,140])\n",
    "\n",
    "\n",
    "time_intervals = np.diff(times)\n",
    "AnchorPlate = 1\n",
    "\n",
    "rotation_model=pygplates.RotationModel(rotation_filename)\n",
    "\n",
    "# CREATE FLOWLINE\n",
    "# POINTS ON THE FLOWLINE\n",
    "points = []\n",
    "for j in range(0,4):\n",
    "    points.append(SeedPoints[j])\n",
    "multi_point = pygplates.MultiPointOnSphere(points)\n",
    "\n",
    "reverse_reconstruct=(rotation_model, 0, 1)\n",
    "\n",
    "flowline_feature1 = pygplates.Feature(pygplates.FeatureType.create_gpml('Flowline'))\n",
    "flowline_feature1.set_geometry(multi_point)\n",
    "flowline_feature1.set_times(times)\n",
    "flowline_feature1.set_valid_time(np.max(times), np.min(times))\n",
    "flowline_feature1.set_left_plate(left_plate)\n",
    "flowline_feature1.set_right_plate(right_plate)\n",
    "flowline_feature1.set_geometry(multi_point, reverse_reconstruct=(rotation_model,0))\n",
    "\n",
    "# reconstruct the flowline\n",
    "reconstruction_time=0\n",
    "reconstructed_flowlines1 = []\n",
    "pygplates.reconstruct(flowline_feature1, rotation_model, reconstructed_flowlines1, reconstruction_time,\n",
    "                  anchor_plate_id=1, reconstruct_type=pygplates.ReconstructType.flowline)\n",
    "\n",
    "# POINTS ON THE FLOWLINE\n",
    "points = []\n",
    "left_plate = 701\n",
    "right_plate =290\n",
    "for j in range(4,5):\n",
    "    points.append(SeedPoints[j])\n",
    "multi_point = pygplates.MultiPointOnSphere(points)\n",
    "\n",
    "reverse_reconstruct=(rotation_model, 0, 1)\n",
    "\n",
    "flowline_feature2 = pygplates.Feature(pygplates.FeatureType.create_gpml('Flowline'))\n",
    "flowline_feature2.set_geometry(multi_point)\n",
    "flowline_feature2.set_times(times)\n",
    "flowline_feature2.set_valid_time(np.max(times), np.min(times))\n",
    "flowline_feature2.set_left_plate(left_plate)\n",
    "flowline_feature2.set_right_plate(right_plate)\n",
    "flowline_feature2.set_geometry(multi_point, reverse_reconstruct=(rotation_model,0))\n",
    "\n",
    "# reconstruct the flowline\n",
    "reconstruction_time=0\n",
    "reconstructed_flowlines2 = []\n",
    "pygplates.reconstruct(flowline_feature2, rotation_model, reconstructed_flowlines2, reconstruction_time,\n",
    "                  anchor_plate_id=1, reconstruct_type=pygplates.ReconstructType.flowline)\n",
    "\n",
    "reconstructed_flowlines = []\n",
    "reconstructed_flowlines.append(reconstructed_flowlines1)\n",
    "reconstructed_flowlines.append(reconstructed_flowlines2)\n",
    "\n",
    "print reconstructed_flowlines\n"
   ]
  },
  {
   "cell_type": "code",
   "execution_count": 4,
   "metadata": {
    "collapsed": false
   },
   "outputs": [
    {
     "data": {
      "image/png": "[encoded data removed]",
      "text/plain": [
       "<matplotlib.figure.Figure at 0x115e07350>"
      ]
     },
     "metadata": {},
     "output_type": "display_data"
    }
   ],
   "source": [
    "fig = plt.figure(figsize=(5,3))\n",
    "\n",
    "CList = ['Red','Orange','Green','Indigo','Blue']\n",
    "count = 0\n",
    "\n",
    "#assert(len(reconstructed_flowlines) == 2)\n",
    "for feature in reconstructed_flowlines:\n",
    "    for reconstructed_flowline in feature:\n",
    "        # Iterate over the left flowline points\n",
    "        flowlinearray_left = np.empty([0,0])\n",
    "        for left_point in reconstructed_flowline.get_left_flowline():\n",
    "            flowlinearray_left = np.append(flowlinearray_left, left_point.to_lat_lon_array())\n",
    "        # Iterate over the right flowline points\n",
    "        flowlinearray_right = np.empty([0,0])\n",
    "        for right_point in reconstructed_flowline.get_right_flowline():\n",
    "            flowlinearray_right = np.append(flowlinearray_right, right_point.to_lat_lon_array())\n",
    "\n",
    "        tmp = reconstructed_flowline.get_left_flowline()\n",
    "        Dist = []\n",
    "        Direc = []\n",
    "        for segment in tmp.get_segments():\n",
    "            Dist.append(segment.get_arc_length()*6371)\n",
    "\n",
    "            SP = segment.get_start_point().to_lat_lon()\n",
    "            EP = segment.get_end_point().to_lat_lon()\n",
    "            deviation_of_segment_direction_from_north = Get_FZ_Directions(SP[1],SP[0],EP[1],EP[0])\n",
    "\n",
    "            if Region not in 'PacificFarallon':\n",
    "                if deviation_of_segment_direction_from_north>280:\n",
    "                    deviation_of_segment_direction_from_north = deviation_of_segment_direction_from_north-360\n",
    "            Direc.append(deviation_of_segment_direction_from_north)\n",
    "\n",
    "        Rate = 2*np.asarray(Dist)/time_intervals\n",
    "\n",
    "        StepRate = np.zeros(len(Rate)*2)\n",
    "        StepRate[::2] = Rate\n",
    "        StepRate[1::2] = Rate\n",
    "\n",
    "        StepDirec = np.zeros(len(Direc)*2)\n",
    "        StepDirec[::2] = Direc\n",
    "        StepDirec[1::2] = Direc\n",
    "\n",
    "        StepTime = np.zeros(len(Rate)*2)\n",
    "        StepTime[::2] = times[:-1]\n",
    "        StepTime[1::2] = times[1:]\n",
    "\n",
    "        plt.subplot(211)\n",
    "        if Region == 'LabradorSea':\n",
    "            plt.plot(StepTime[2:],StepRate[2:],linewidth=1.2,color=CList[count])\n",
    "        else:\n",
    "            plt.plot(StepTime,StepRate,linewidth=1.2,color=CList[count])\n",
    "\n",
    "        plt.subplot(212)\n",
    "        if Region == 'LabradorSea':\n",
    "            plt.plot(StepTime[2:],StepDirec[2:],linewidth=1.2,color=CList[count])\n",
    "        else:\n",
    "            plt.plot(StepTime,StepDirec,linewidth=1.2,color=CList[count])\n",
    "\n",
    "        count=count+1\n",
    " \n",
    "\n",
    "plt.subplot(211)\n",
    "plt.gca().yaxis.grid(True,which='major')\n",
    "plt.gca().xaxis.grid(True,which='major')\n",
    "plt.xticks(np.arange(0,241,20),[])\n",
    "plt.gca().set_xlim([np.max(times),np.min(times)])\n",
    "plt.ylabel('Divergence Rate (mm/yr)',fontsize=6.5)\n",
    "plt.yticks(fontsize=7)\n",
    "\n",
    "plt.subplot(212)\n",
    "plt.gca().yaxis.grid(True,which='major')\n",
    "plt.gca().xaxis.grid(True,which='major')\n",
    "plt.xticks(np.arange(0,241,20),fontsize=7)\n",
    "plt.yticks(fontsize=7)\n",
    "plt.gca().set_xlim([np.max(times),np.min(times)])\n",
    "plt.xlabel('Age (Ma)',fontsize=7)\n",
    "plt.ylabel('Divergence Direction (deg)',fontsize=6.5)\n",
    "#plt.gca().invert_xaxis()\n",
    "#plt.xlim((200,0))\n",
    "fname = './Figures/SpreadingRates_%s.pdf' % Region\n",
    "#fig.savefig(fname,dpi=600)\n",
    "\n",
    "plt.show()\n",
    "\n"
   ]
  },
  {
   "cell_type": "code",
   "execution_count": 5,
   "metadata": {
    "collapsed": false
   },
   "outputs": [
    {
     "ename": "IOError",
     "evalue": "[Errno 2] No such file or directory: '/Users/Simon/Data/GPlates/GplatesRasters/DNSC08GRA_greyscale.jpg'",
     "output_type": "error",
     "traceback": [
      "\u001b[0;31m---------------------------------------------------------------------------\u001b[0m",
      "\u001b[0;31mIOError\u001b[0m                                   Traceback (most recent call last)",
      "\u001b[0;32m<ipython-input-5-919b0a58d049>\u001b[0m in \u001b[0;36m<module>\u001b[0;34m()\u001b[0m\n\u001b[1;32m     16\u001b[0m \u001b[0max\u001b[0m \u001b[0;34m=\u001b[0m \u001b[0mplt\u001b[0m\u001b[0;34m.\u001b[0m\u001b[0mgca\u001b[0m\u001b[0;34m(\u001b[0m\u001b[0;34m)\u001b[0m\u001b[0;34m\u001b[0m\u001b[0m\n\u001b[1;32m     17\u001b[0m \u001b[0;34m\u001b[0m\u001b[0m\n\u001b[0;32m---> 18\u001b[0;31m \u001b[0mpmap\u001b[0m\u001b[0;34m.\u001b[0m\u001b[0mwarpimage\u001b[0m\u001b[0;34m(\u001b[0m\u001b[0;34m'/Users/Simon/Data/GPlates/GplatesRasters/DNSC08GRA_greyscale.jpg'\u001b[0m\u001b[0;34m,\u001b[0m\u001b[0mscale\u001b[0m\u001b[0;34m=\u001b[0m\u001b[0;36m0.5\u001b[0m\u001b[0;34m,\u001b[0m\u001b[0malpha\u001b[0m\u001b[0;34m=\u001b[0m\u001b[0;36m0.5\u001b[0m\u001b[0;34m)\u001b[0m\u001b[0;34m\u001b[0m\u001b[0m\n\u001b[0m\u001b[1;32m     19\u001b[0m \u001b[0;34m\u001b[0m\u001b[0m\n\u001b[1;32m     20\u001b[0m \u001b[0mcount\u001b[0m \u001b[0;34m=\u001b[0m \u001b[0;36m0\u001b[0m\u001b[0;34m\u001b[0m\u001b[0m\n",
      "\u001b[0;32m/Users/Andrew/anaconda/lib/python2.7/site-packages/mpl_toolkits/basemap/__init__.pyc\u001b[0m in \u001b[0;36mwarpimage\u001b[0;34m(self, image, scale, **kwargs)\u001b[0m\n\u001b[1;32m   4082\u001b[0m         \u001b[0;31m# read in jpeg image to rgba array of normalized floats.\u001b[0m\u001b[0;34m\u001b[0m\u001b[0;34m\u001b[0m\u001b[0m\n\u001b[1;32m   4083\u001b[0m         \u001b[0;32mif\u001b[0m \u001b[0;32mnot\u001b[0m \u001b[0mhasattr\u001b[0m\u001b[0;34m(\u001b[0m\u001b[0mself\u001b[0m\u001b[0;34m,\u001b[0m\u001b[0;34m'_bm_rgba'\u001b[0m\u001b[0;34m)\u001b[0m \u001b[0;32mor\u001b[0m \u001b[0mnewfile\u001b[0m\u001b[0;34m:\u001b[0m\u001b[0;34m\u001b[0m\u001b[0m\n\u001b[0;32m-> 4084\u001b[0;31m             \u001b[0mpilImage\u001b[0m \u001b[0;34m=\u001b[0m \u001b[0mImage\u001b[0m\u001b[0;34m.\u001b[0m\u001b[0mopen\u001b[0m\u001b[0;34m(\u001b[0m\u001b[0mself\u001b[0m\u001b[0;34m.\u001b[0m\u001b[0m_bm_file\u001b[0m\u001b[0;34m)\u001b[0m\u001b[0;34m\u001b[0m\u001b[0m\n\u001b[0m\u001b[1;32m   4085\u001b[0m             \u001b[0;32mif\u001b[0m \u001b[0mscale\u001b[0m \u001b[0;32mis\u001b[0m \u001b[0;32mnot\u001b[0m \u001b[0mNone\u001b[0m\u001b[0;34m:\u001b[0m\u001b[0;34m\u001b[0m\u001b[0m\n\u001b[1;32m   4086\u001b[0m                 \u001b[0mw\u001b[0m\u001b[0;34m,\u001b[0m \u001b[0mh\u001b[0m \u001b[0;34m=\u001b[0m \u001b[0mpilImage\u001b[0m\u001b[0;34m.\u001b[0m\u001b[0msize\u001b[0m\u001b[0;34m\u001b[0m\u001b[0m\n",
      "\u001b[0;32m/Users/Andrew/anaconda/lib/python2.7/site-packages/PIL/Image.pyc\u001b[0m in \u001b[0;36mopen\u001b[0;34m(fp, mode)\u001b[0m\n\u001b[1;32m   1950\u001b[0m         \u001b[0;32mimport\u001b[0m \u001b[0m__builtin__\u001b[0m\u001b[0;34m\u001b[0m\u001b[0m\n\u001b[1;32m   1951\u001b[0m         \u001b[0mfilename\u001b[0m \u001b[0;34m=\u001b[0m \u001b[0mfp\u001b[0m\u001b[0;34m\u001b[0m\u001b[0m\n\u001b[0;32m-> 1952\u001b[0;31m         \u001b[0mfp\u001b[0m \u001b[0;34m=\u001b[0m \u001b[0m__builtin__\u001b[0m\u001b[0;34m.\u001b[0m\u001b[0mopen\u001b[0m\u001b[0;34m(\u001b[0m\u001b[0mfp\u001b[0m\u001b[0;34m,\u001b[0m \u001b[0;34m\"rb\"\u001b[0m\u001b[0;34m)\u001b[0m\u001b[0;34m\u001b[0m\u001b[0m\n\u001b[0m\u001b[1;32m   1953\u001b[0m     \u001b[0;32melse\u001b[0m\u001b[0;34m:\u001b[0m\u001b[0;34m\u001b[0m\u001b[0m\n\u001b[1;32m   1954\u001b[0m         \u001b[0mfilename\u001b[0m \u001b[0;34m=\u001b[0m \u001b[0;34m\"\"\u001b[0m\u001b[0;34m\u001b[0m\u001b[0m\n",
      "\u001b[0;31mIOError\u001b[0m: [Errno 2] No such file or directory: '/Users/Simon/Data/GPlates/GplatesRasters/DNSC08GRA_greyscale.jpg'"
     ]
    },
    {
     "data": {
      "image/png": "[encoded data removed]",
      "text/plain": [
       "<matplotlib.figure.Figure at 0x1063b0710>"
      ]
     },
     "metadata": {},
     "output_type": "display_data"
    }
   ],
   "source": [
    "import matplotlib.pyplot as plt\n",
    "from mpl_toolkits.basemap import Basemap\n",
    "\n",
    "%matplotlib inline\n",
    "\n",
    "# Plot basemap\n",
    "fig = plt.figure(figsize=(3,3), dpi=600)\n",
    "pmap = Basemap(projection='ortho',lon_0=SeedPoints[2][1],lat_0=SeedPoints[2][0],resolution='l')\n",
    "pmap.drawcoastlines(linewidth=0.25)\n",
    "pmap.fillcontinents(color='darkkhaki',lake_color='aliceblue',zorder=3)\n",
    "pmap.drawmapboundary(fill_color='aliceblue')\n",
    "pmap.drawmeridians(np.arange(0,360,15),linewidth=0.5)\n",
    "pmap.drawparallels(np.arange(-90,90,15),linewidth=0.5)\n",
    "clip_path = pmap.drawmapboundary()\n",
    "\n",
    "ax = plt.gca()\n",
    "\n",
    "pmap.warpimage('/Users/Simon/Data/GPlates/GplatesRasters/DNSC08GRA_greyscale.jpg',scale=0.5,alpha=0.5)\n",
    "\n",
    "count = 0\n",
    "#assert(len(reconstructed_flowlines) == 2)\n",
    "for feature in reconstructed_flowlines:\n",
    "    for reconstructed_flowline in feature:    # Iterate over the left flowline points\n",
    "        flowlinearray_left = np.empty([0,0])\n",
    "        for left_point in reconstructed_flowline.get_left_flowline():\n",
    "            flowlinearray_left = np.append(flowlinearray_left, left_point.to_lat_lon_array())\n",
    "        # Iterate over the right flowline points\n",
    "        flowlinearray_right = np.empty([0,0])\n",
    "        for right_point in reconstructed_flowline.get_right_flowline():\n",
    "            flowlinearray_right = np.append(flowlinearray_right, right_point.to_lat_lon_array())\n",
    "\n",
    "        x,y = pmap(flowlinearray_left[1::2],flowlinearray_left[::2])\n",
    "        l1,=pmap.plot(x, y, clip_path=clip_path,zorder=2,linewidth=1.25,color=CList[count])\n",
    "        #l3=pmap.scatter(x, y, 30, c=times,\n",
    "        #                      cmap=plt.cm.gnuplot_r, edgecolor='none', clip_path=clip_path,zorder=1,vmin=50,vmax=90)\n",
    "\n",
    "        x,y = pmap(flowlinearray_right[1::2],flowlinearray_right[::2])\n",
    "        pmap.plot(x, y, clip_path=clip_path,zorder=2,linewidth=1.25,color=CList[count])\n",
    "        #l3=pmap.scatter(x, y, 30, c=times,\n",
    "        #                      cmap=plt.cm.gnuplot_r, edgecolor='none', clip_path=clip_path,zorder=1,vmin=50,vmax=90)\n",
    "\n",
    "        #cbar = pmap.colorbar(l3,location='right',pad=\"5%\")\n",
    "        #cbar.set_label('Time (Ma)',fontsize=12)\n",
    "        count=count+1\n",
    "\n",
    "fname = './Figures/Flowlines_%s.pdf' % Region\n",
    "fig.savefig(fname,dpi=600)\n",
    "plt.show()\n",
    "\n"
   ]
  },
  {
   "cell_type": "code",
   "execution_count": null,
   "metadata": {
    "collapsed": false
   },
   "outputs": [],
   "source": []
  }
 ],
 "metadata": {
  "kernelspec": {
   "display_name": "Python 2",
   "language": "python",
   "name": "python2"
  },
  "language_info": {
   "codemirror_mode": {
    "name": "ipython",
    "version": 2
   },
   "file_extension": ".py",
   "mimetype": "text/x-python",
   "name": "python",
   "nbconvert_exporter": "python",
   "pygments_lexer": "ipython2",
   "version": "2.7.13"
  }
 },
 "nbformat": 4,
 "nbformat_minor": 0
}
